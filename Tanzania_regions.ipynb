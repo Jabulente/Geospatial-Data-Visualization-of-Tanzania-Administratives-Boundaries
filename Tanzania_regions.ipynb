{
 "cells": [
  {
   "cell_type": "code",
   "execution_count": 58,
   "metadata": {},
   "outputs": [
    {
     "data": {
      "text/html": [
       "<div>\n",
       "<style scoped>\n",
       "    .dataframe tbody tr th:only-of-type {\n",
       "        vertical-align: middle;\n",
       "    }\n",
       "\n",
       "    .dataframe tbody tr th {\n",
       "        vertical-align: top;\n",
       "    }\n",
       "\n",
       "    .dataframe thead th {\n",
       "        text-align: right;\n",
       "    }\n",
       "</style>\n",
       "<table border=\"1\" class=\"dataframe\">\n",
       "  <thead>\n",
       "    <tr style=\"text-align: right;\">\n",
       "      <th></th>\n",
       "      <th>Region_Nam</th>\n",
       "      <th>Region_Cod</th>\n",
       "      <th>District_C</th>\n",
       "      <th>NewDist20</th>\n",
       "      <th>geometry</th>\n",
       "    </tr>\n",
       "  </thead>\n",
       "  <tbody>\n",
       "    <tr>\n",
       "      <th>0</th>\n",
       "      <td>Arusha</td>\n",
       "      <td>2</td>\n",
       "      <td>6</td>\n",
       "      <td>Arusha DC</td>\n",
       "      <td>MULTIPOLYGON (((36.82313 -3.44493, 36.82293 -3...</td>\n",
       "    </tr>\n",
       "    <tr>\n",
       "      <th>1</th>\n",
       "      <td>Arusha</td>\n",
       "      <td>2</td>\n",
       "      <td>3</td>\n",
       "      <td>Arusha MC</td>\n",
       "      <td>POLYGON ((36.63328 -3.36609, 36.63297 -3.36625...</td>\n",
       "    </tr>\n",
       "    <tr>\n",
       "      <th>2</th>\n",
       "      <td>Arusha</td>\n",
       "      <td>2</td>\n",
       "      <td>4</td>\n",
       "      <td>Karatu DC</td>\n",
       "      <td>POLYGON ((35.89234 -3.25703, 35.88714 -3.26276...</td>\n",
       "    </tr>\n",
       "  </tbody>\n",
       "</table>\n",
       "</div>"
      ],
      "text/plain": [
       "  Region_Nam  Region_Cod  District_C  NewDist20  \\\n",
       "0     Arusha           2           6  Arusha DC   \n",
       "1     Arusha           2           3  Arusha MC   \n",
       "2     Arusha           2           4  Karatu DC   \n",
       "\n",
       "                                            geometry  \n",
       "0  MULTIPOLYGON (((36.82313 -3.44493, 36.82293 -3...  \n",
       "1  POLYGON ((36.63328 -3.36609, 36.63297 -3.36625...  \n",
       "2  POLYGON ((35.89234 -3.25703, 35.88714 -3.26276...  "
      ]
     },
     "execution_count": 58,
     "metadata": {},
     "output_type": "execute_result"
    }
   ],
   "source": [
    "Tanzania_districts.head(3)"
   ]
  },
  {
   "cell_type": "code",
   "execution_count": null,
   "metadata": {},
   "outputs": [],
   "source": []
  },
  {
   "cell_type": "code",
   "execution_count": null,
   "metadata": {},
   "outputs": [],
   "source": []
  }
 ],
 "metadata": {
  "celltoolbar": "Slideshow",
  "finalized": {
   "timestamp": 1608256821630,
   "trusted": true
  },
  "hide_code_all_hidden": false,
  "kernelspec": {
   "display_name": "Python 3 (ipykernel)",
   "language": "python",
   "name": "python3"
  },
  "language_info": {
   "codemirror_mode": {
    "name": "ipython",
    "version": 3
   },
   "file_extension": ".py",
   "mimetype": "text/x-python",
   "name": "python",
   "nbconvert_exporter": "python",
   "pygments_lexer": "ipython3",
   "version": "3.11.8"
  },
  "rise": {
   "overlay": "<div class='slide-header'><h2>SciPy India 2020</h2></div><div class='slide-footer'><h2>@PratapVardhan</h2></div>",
   "scroll": true,
   "theme": "white"
  }
 },
 "nbformat": 4,
 "nbformat_minor": 4
}
